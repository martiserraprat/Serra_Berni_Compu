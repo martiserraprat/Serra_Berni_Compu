{
 "cells": [
  {
   "cell_type": "code",
   "execution_count": 1,
   "metadata": {},
   "outputs": [],
   "source": [
    "import pandas as pd\n",
    "import numpy as np\n",
    "import matplotlib.pyplot as plt\n",
    "from sklearn.datasets import load_iris, load_breast_cancer\n",
    "# Carreguem el dataset\n",
    "df = pd.read_csv('train.csv')"
   ]
  },
  {
   "cell_type": "markdown",
   "metadata": {
    "id": "oZMnmdDBCl7F"
   },
   "source": [
    "# Pràctica 1: Resolem un problema de classificació\n",
    "\n",
    "## Objectius\n",
    "\n",
    "Els objectius d’aquesta pràctica són:\n",
    "\n",
    "* Aplicar els coneixements adquirits sobre classificació, tècniques d’emplenament de valors perduts i validació creuada.\n",
    "\n",
    "* Comparar diferents models de classificació.\n",
    "\n",
    "* Realitzar la cerca d’hiperparàmetres.\n",
    "\n",
    "* Entendre i implementar la validació creuada.\n",
    "\n",
    "* Analitzar detalladament els resultats obtinguts durant l’entrenament dels diferents models.\n",
    "\n",
    "Aquesta pràctica és prèvia al cas Kaggle que realitzareu durant la segona part de l’assignatura. En aquesta primera fase les preguntes estan definides, però us ha de servir d’aprenentatge per saber com estructurar un projecte d’aprenentatge automàtic, ja que en el cas Kaggle no tindreu les preguntes pautades.\n",
    "\n",
    "## Bases de dades\n",
    "En aquesta pràctica farem servir la base de dades del *Titanic*. L’atribut a predir és *Survived*, que indica si cada passatger va sobreviure o no.\n",
    "\n",
    "[Enllaç a les dades](https://www.kaggle.com/c/titanic/data)\n",
    "\n",
    "## Treball en grup\n",
    "\n",
    "La pràctica es durà a terme en grups de 2 o 3 persones. En casos excepcionals i degudament justificats, es podrà realitzar de manera individual.\n",
    "\n",
    "## Seguiment i entrega de la pràctica\n",
    "\n",
    "A la Pràctica 1 es proposen diverses tasques per fer una comparació adequada dels resultats obtinguts amb diferents mètodes de classificació aplicats a una mateixa base de dades.\n",
    "\n",
    "Es realitzaran sessions de seguiment del treball, orientades a resoldre dubtes sobre les dades, aclarir els objectius de cada apartat de l’enunciat i comentar els resultats obtinguts durant l’anàlisi. És molt recomanable assistir-hi amb el treball ja avançat per tal de poder aprofitar millor la sessió.\n",
    "\n",
    "Pel que fa a l’entrega, caldrà lliurar a través de Caronte el següent:\n",
    "\n",
    "1. *Memòria* en format PDF o en la mateixa notebook, explicant els resultats obtinguts sobre la base de dades i incloent el codi en Python corresponent. Aquesta nota serà la mateixa per a tots els membres del grup. (9 punts)\n",
    "\n",
    "2. *Presentació* amb els resultats (màxim 4 minuts). Aquesta nota serà individual. (1 punt)\n",
    "\n",
    "*Nota*: En cas d’entregar la memòria en format PDF, cal adjuntar el codi en Python per separat. Si s’entrega en format notebook, aquest mateix document ja servirà com a codi.\n"
   ]
  },
  {
   "cell_type": "markdown",
   "metadata": {
    "id": "6zdgsxfuCl7S"
   },
   "source": [
    "# Continguts que s’avaluaran en la pràctica\n",
    "\n",
    "1. **EDA (Exploratory Data Analysis)** – 1 punt\n",
    "\n",
    "* Anàlisi de la mida i tipologia de les dades (0.25 pts)\n",
    "\n",
    "* Primera valoració de correlacions (0.5 pts)\n",
    "\n",
    "* Anàlisi de l’atribut target (0.25 pts)\n",
    "\n",
    "2. **Preprocessament** – 2 punts\n",
    "\n",
    "* Eliminació de valors nuls (0.5 pts)\n",
    "\n",
    "* Codificació de variables categòriques (0.75 pts)\n",
    "\n",
    "* Altres (PCA, normalització, etc.) (0.75 pts)\n",
    "\n",
    "3. **Selecció de mètriques** – 1.5 punts\n",
    "\n",
    "* Selecció de la mètrica més adequada pel problema (0.75 pts)\n",
    "\n",
    "* Visualització de corbes ROC/AUC (0.75 pts)\n",
    "\n",
    "4. **Selecció de models amb validació creuada** – 4 punts\n",
    "\n",
    "* Selecció del millor model (2 pts)\n",
    "\n",
    "* Cerca d’hiperparàmetres (2 pts)\n",
    "\n",
    "5. **Anàlisi final** – 1.5 punts\n",
    "\n",
    "Cal tenir en compte que les puntuacions dins de cada apartat són orientatives. La pràctica està estructurada a partir d’un seguit de preguntes guia en cada secció, relacionades amb els continguts avaluables. **No cal respondre-les totes**: el seu objectiu és ajudar-vos a reflexionar i aprofundir en els aspectes clau de cada apartat. Tot i així, és recomanable llegir-les prèviament i tenir-les en compte durant el desenvolupament de la pràctica.\n",
    "\n",
    "**IMPORTANT**: El criteri principal d’avaluació serà la capacitat de mantenir una narrativa coherent a mesura que es presenten els resultats. No es penalitzarà deixar alguna pregunta sense respondre, sempre que el procés seguit i les conclusions extretes a partir dels resultats siguin consistents i ben fonamentats."
   ]
  },
  {
   "cell_type": "markdown",
   "metadata": {
    "id": "fuENGdYFCl7S"
   },
   "source": [
    "### 1. EDA (*Exploratory Data Analysis*) – **1 punt**\n",
    "\n",
    "Abans de començar, és fonamental analitzar la base de dades assignada.  \n",
    "\n",
    "**Preguntes:**  \n",
    "-  Quants atributs té la base de dades? \n",
    "    - 12 \n",
    "-  Quin tipus d’atributs hi ha? (numèrics, temporals, categòrics, binaris, ...)  \n",
    "\n",
    "    - PassengerID → Numeric\n",
    "    - Survived→Binari\n",
    "    - Pclass→Categòric\n",
    "    - Name→Categórico\n",
    "    - Sex → Categòric\n",
    "    - Age → numeric\n",
    "    - Sibsp → numeric\n",
    "    - Parch → numeric\n",
    "    - embarked → Categoric\n",
    "    - Ticket→Categòric\n",
    "    - Fare→ Numeric\n",
    "    - Cabin→Categòric\n",
    "    - Embarked→Categòrich\n",
    "\n",
    "-  Com és el *target*? Quantes categories diferents té?  \n",
    "    \n",
    "-  Hi ha valors nuls (*NaNs*) a les dades?  \n",
    "    - Columnes Amb NaNs:\n",
    "        - Age : 177\n",
    "        - Cabin : 687\n",
    "        - Embarked : 2\n",
    "    - Com podem veure hi ha 3 columnes amb Nans, els mes destacables son Age i cabin. pel que fa Age suposem que es ja que a alguns passatgers no es va tenir el registre correcte de la seva edat. Per altre banda Cabin, que tenim molts NaNs ja que dels 891 p, i perassatges, 687 d'ells no tenien Cabina. Per utlim de 2 passatgers no se sap on van embarcar, suposem qeue s tracte de un error en el registre d'ells.\n",
    "-  Es poden observar correlacions entre les variables explicatives (*X*) i la variable objectiu (*y*)?  \n",
    "-  Les etiquetes estan balancejades? (és a dir, hi ha una distribució similar entre categories?) Creus que la seva distribució pot afectar la classificació?  \n",
    "\n",
    "    - NO es balencejada ja que per exemple hi ha bastants més homes que dones, va sobreviure molta menys gent de la que no ho va, les classes hi ha moltes mes persones de 3ra que de 1ra...Aixo pot dur a errors de detecció sobretot en les minories degut a aixo. el que també es un problema es el desbalansajament en y (supervivents o no supervivents), ja que si tenim que va morir un 62 percent dels passatges, podriem sempre donar com a resultat que mor i tindriem un 62% de accuracy."
   ]
  },
  {
   "cell_type": "markdown",
   "metadata": {},
   "source": [
    "-  Es poden observar correlacions entre les variables explicatives (*X*) i la variable objectiu (*y*)? \n",
    "    - Si Analitzem els 6 gàrfics de sota els cuals ens mostres relacio entre:\n",
    "        - Supervivent Homes vs Dones.\n",
    "        - Supervivencia Depenent del Port d'embarcament.\n",
    "        - Supervivecnia segons la classe del passatger.\n",
    "    - El nostre analisis ens ha determinat que el port d'embarcament no va tenir ningun tipus de relacio entre sobreviure o no ja que son proporcionalment bastant similars els dos grafs.\n",
    "    - Per altre banda si que es pot veure que van sobreviure moltes mes dones que homes tot hi haber mes homes a la embarcació. per tant aqui si que tenim una relció entre x i y.\n",
    "    - Finalment i també molt notable la relacio entre x i y, seria la classe, ja que els que mes van sobreviure van ser els de 1ra classe teninnt en compte que era la classe menys numerosa entre els passatgers, i en cambi la classe on propriconalment es va morir mes gent e sla 3ra classe amb una gran diferencia.\n"
   ]
  },
  {
   "cell_type": "code",
   "execution_count": null,
   "metadata": {},
   "outputs": [
    {
     "ename": "NameError",
     "evalue": "name 'ret' is not defined",
     "output_type": "error",
     "traceback": [
      "\u001b[31m---------------------------------------------------------------------------\u001b[39m",
      "\u001b[31mNameError\u001b[39m                                 Traceback (most recent call last)",
      "\u001b[36mCell\u001b[39m\u001b[36m \u001b[39m\u001b[32mIn[3]\u001b[39m\u001b[32m, line 8\u001b[39m\n\u001b[32m      6\u001b[39m number_by_embarked = df[\u001b[33m\"\u001b[39m\u001b[33mEmbarked\u001b[39m\u001b[33m\"\u001b[39m].value_counts().sort_index()\n\u001b[32m      7\u001b[39m number_by_class = df[\u001b[33m\"\u001b[39m\u001b[33mPclass\u001b[39m\u001b[33m\"\u001b[39m].value_counts().sort_index()\n\u001b[32m----> \u001b[39m\u001b[32m8\u001b[39m \u001b[43mret\u001b[49m\n\u001b[32m      9\u001b[39m plt.figure(figsize=(\u001b[32m10\u001b[39m,\u001b[32m25\u001b[39m))\n\u001b[32m     11\u001b[39m fig, axs = plt.subplots(\u001b[32m3\u001b[39m, \u001b[32m2\u001b[39m, figsize=(\u001b[32m10\u001b[39m, \u001b[32m25\u001b[39m), sharey=\u001b[38;5;28;01mTrue\u001b[39;00m)\n",
      "\u001b[31mNameError\u001b[39m: name 'ret' is not defined"
     ]
    }
   ],
   "source": [
    "survival_by_sex = df.groupby(\"Sex\")[\"Survived\"].sum()\n",
    "survival_by_embarked = df.groupby(\"Embarked\")[\"Survived\"].sum()\n",
    "survival_by_class = df.groupby(\"Pclass\")[\"Survived\"].sum()\n",
    "\n",
    "number_by_sex = df[\"Sex\"].value_counts().sort_index()\n",
    "number_by_embarked = df[\"Embarked\"].value_counts().sort_index()\n",
    "number_by_class = df[\"Pclass\"].value_counts().sort_index()\n",
    "\n",
    "plt.figure(figsize=(10,25))\n",
    "\n",
    "fig, axs = plt.subplots(3, 2, figsize=(10, 25), sharey=True)\n",
    "plt.sca(axs[0,0]) \n",
    "plt.bar(['Dones','Homes'],number_by_sex.values, color = ['pink', 'blue'])\n",
    "plt.title('Nombre de Homes Vs Dones')\n",
    "\n",
    "plt.sca(axs[0,1]) \n",
    "plt.bar(['Dones', 'Homes'],survival_by_sex.values, color = ['pink', 'blue'])\n",
    "plt.title('Supervivents Homes Vs Dones')\n",
    "\n",
    "plt.sca(axs[1,0])\n",
    "plt.bar(number_by_embarked.index, number_by_embarked.values,  color = ['red', 'blue', 'orange'])\n",
    "plt.title('Ports Embarcament')\n",
    "\n",
    "plt.sca(axs[1,1]) \n",
    "plt.bar(survival_by_embarked.index, survival_by_embarked.values, color = ['red', 'blue', 'orange'])\n",
    "plt.title('Supervivents Per Ports Embarcament')\n",
    "\n",
    "plt.sca(axs[2,0]) \n",
    "plt.bar([1,2,3], number_by_class.values,  color = ['green', 'orange', 'red'])\n",
    "plt.xticks([1,2,3])\n",
    "plt.title('Pasatgers Per Classes')\n",
    "\n",
    "plt.sca(axs[2,1])\n",
    "plt.bar([1,2,3], survival_by_class.values, color = ['green', 'orange', 'red'])\n",
    "plt.xticks([1,2,3])\n",
    "plt.title('Supervivents Per Classes')\n",
    "\n",
    "plt.tight_layout()\n",
    "plt.show()\n"
   ]
  },
  {
   "cell_type": "markdown",
   "metadata": {
    "id": "CuLtWQWpCl7T"
   },
   "source": [
    "### 2. Preprocessament (*normalització, tractament d’outliers, selecció de variables...*) – **2 punts**\n",
    "\n",
    "Un cop conegudes les dades disponibles, cal preparar-les per als algoritmes d’aprenentatge. Segons la tipologia de dades, es poden filtrar atributs, aplicar reductors de dimensionalitat, codificar categories textuals en valors numèrics, normalitzar, o bé detectar i eliminar *outliers*.  \n",
    "\n",
    "Consulteu la [documentació de *scikit-learn* sobre preprocessament](https://scikit-learn.org/stable/modules/preprocessing.html) per explorar les diferents opcions que ofereix.  \n",
    "\n",
    "**Preguntes:**  \n",
    "-  Les dades estan normalitzades? Caldria fer-ho?  \n",
    "-  En cas de normalitzar, quin tipus de normalització seria més adient per a les vostres dades?  \n",
    "-  Hi ha moltes dades sense informació (*NaNs*)? Tingueu en compte que alguns mètodes no les toleren durant l’aprenentatge.  \n",
    "   -  Com afecta la classificació si les filtreu?  \n",
    "   -  I si les reompliu? Com ho faríeu? [Pista](https://scikit-learn.org/stable/modules/impute.html)  \n",
    "-  Hi ha dades categòriques? Quina seria la codificació més adequada?  \n",
    "-  Es poden extreure atributs addicionals a partir de les variables categòriques (per exemple, aplicant alguna regla sobre el text)?  \n",
    "-  Caldria aplicar PCA? Quins beneficis o inconvenients tindria?  \n",
    "-  Seria útil aplicar alguna tècnica de selecció de *features*? Ho trobeu necessari?  \n",
    "-  Es podrien aplicar *PolynomialFeatures* per millorar la classificació? En quins models tindria sentit fer-ho?  \n"
   ]
  },
  {
   "cell_type": "markdown",
   "metadata": {
    "id": "axc-wn2rCl7T"
   },
   "source": [
    "### 3. Selecció de mètriques – **1.5 punts**\n",
    "\n",
    "En aquest apartat ens centrarem en les mètriques de classificació ([documentació](https://scikit-learn.org/stable/modules/model_evaluation.html#classification-metrics)).  \n",
    "\n",
    "Per començar, entreneu una **regressió logística** (no cal separar *train-test*). A partir d’aquesta, genereu una sèrie de funcions per analitzar els resultats. Aquestes funcions serviran més endavant.  \n",
    "\n",
    "També caldrà triar la mètrica que farem servir posteriorment per escollir el millor model.  \n",
    "\n",
    "**Preguntes:**  \n",
    "-  A teoria hem vist el comportament de l’`accuracy_score` en dades no balancejades. Quina de les següents mètriques creieu que és més adequada pel vostre problema? Justifiqueu-ho.  \n",
    "   - `accuracy_score`  \n",
    "   - `f1_score`  \n",
    "   - `average_precision_score`  \n",
    "-  Abans d’entrenar models, genereu una suite de funcions per analitzar gràficament el rendiment.  \n",
    "   -  Mostreu la *Precision-Recall Curve* i la *ROC Curve*.  \n",
    "   -  Quina és més rellevant per al vostre dataset?  \n",
    "   -  Expliqueu amb les vostres paraules la diferència entre ambdues. [Pista](https://stats.stackexchange.com/questions/338826/auprc-vs-auc-roc)\n",
    "-  Què mostra el [`classification_report`](https://scikit-learn.org/stable/modules/generated/sklearn.metrics.classification_report.html)?  \n",
    "   -  Quina mètrica triareu per optimitzar la classificació en el vostre cas?  \n",
    "\n",
    "> **Nota:** En aquest apartat **no es valoren els resultats obtinguts**. El que s’avalua és:  \n",
    "> - L’elecció raonada de la mètrica de classificació.  \n",
    "> - Saber quines gràfiques cal generar per analitzar els resultats.  \n",
    ">   \n",
    "> Recordeu: abans de solucionar un problema cal tenir molt clara la mètrica d’error que s’utilitzarà, i aquesta decisió s’ha de prendre **abans d’entrenar models**.  \n"
   ]
  },
  {
   "cell_type": "markdown",
   "metadata": {
    "id": "t8xe5r78Cl7T"
   },
   "source": [
    "### 4. Selecció de models amb validació creuada – **4 punts**\n",
    "\n",
    "Fent servir la mètrica seleccionada a l’apartat anterior, cal escollir una sèrie de models i, mitjançant **validació creuada**, seleccionar el millor model amb els seus hiperparàmetres òptims, trobats a través d’una cerca (*hyperparameter search*).  \n",
    "\n",
    "Aquesta tasca s’emmarca dins de l’aprenentatge computacional **supervisat**.  \n",
    "A *scikit-learn* disposem de diverses tècniques ([documentació](https://scikit-learn.org/stable/supervised_learning.html)). A classe hem vist tècniques com:  \n",
    "- Regressió logística  \n",
    "- SVM amb diferents *kernels*  \n",
    "- K-Nearest Neighbours (KNN)  \n",
    "- Arbres de decisió  \n",
    "- Random Forest  \n",
    "- Gradient Boosting  \n",
    "\n",
    "Per aquest apartat es demana seleccionar **un mínim de 4 models** (per exemple: regressió logística, random forest, KNN, SVM).  \n",
    "\n",
    "**Preguntes:**  \n",
    "-  Quins models heu considerat? Per què els heu seleccionat?  \n",
    "-  Fent servir validació creuada, escolliu el millor model (amb hiperparàmetres per defecte).  \n",
    "   -  Per què és important fer servir validació creuada?  \n",
    "   -  Heu de fer servir algun [tipus específic de validació creuada](https://scikit-learn.org/stable/modules/cross_validation.html)?  \n",
    "-  Seleccioneu un conjunt d’**hiperparàmetres** a provar per a cada model i realitzeu la cerca corresponent.  \n",
    "   -  Hi ha algun model que es pugui descartar de primeres? Per què?  \n",
    "-  Mostreu els resultats en una taula amb: model, experiments realitzats, resultats (train i test) i, opcionalment, temps d’entrenament.  \n",
    "-  Quin tipus de **K-fold** heu escollit per a la selecció de models i per a la selecció amb hiperparàmetres?  \n",
    "   -  Com afecta el nombre de folds al resultat final?  \n",
    "-  Quines formes de buscar el millor paràmetre heu trobat?  \n",
    "   -  Són costoses computacionalment?  \n",
    "   -  [Documentació *Grid Search*](https://scikit-learn.org/stable/modules/grid_search.html)  \n",
    "   -  Quina heu seleccionat?  \n",
    "-  Si disposem de recursos limitats (per exemple, un PC durant 1 hora), quin mètode creieu que donarà millor resultat final?  \n",
    "-  Existeixen mètodes de cerca més eficients? ([scikit-optimize](https://scikit-optimize.github.io/stable/))  \n",
    "-  Opcional: Configureu diferents mètodes de cerca per executar-se durant el mateix temps (0,5–1 h) amb el model i el mètode de cross-validation escollit.  \n",
    "   -  Analitzeu quin ha arribat a una millor solució.  \n",
    "   -  (Ajuda: estimeu el temps d’entrenament d’un model per trobar el número d’iteracions possibles.)  \n",
    "\n"
   ]
  },
  {
   "cell_type": "markdown",
   "metadata": {
    "id": "Hx-3b7v2TwJ3"
   },
   "source": [
    "### 5. Anàlisi final – **1.5 punts**\n",
    "\n",
    "Un cop seleccionat el millor model amb els hiperparàmetres òptims, cal elaborar un **report final** amb els resultats obtinguts.  \n",
    "\n",
    "**Preguntes:**  \n",
    "-  Mostreu les corbes ROC/PR (la que hàgiu escollit a l’apartat 3) i interpreteu els resultats.  \n",
    "-  Analitzeu en detall les diferents mètriques que considereu adients.  \n",
    "  -  Comentar breument com podríeu aplicar aquest model en un futur (cas d’ús).  \n",
    "-  Quines possibles millores es podrien fer al vostre model?  "
   ]
  }
 ],
 "metadata": {
  "colab": {
   "provenance": []
  },
  "kernelspec": {
   "display_name": "Python 3",
   "language": "python",
   "name": "python3"
  },
  "language_info": {
   "codemirror_mode": {
    "name": "ipython",
    "version": 3
   },
   "file_extension": ".py",
   "mimetype": "text/x-python",
   "name": "python",
   "nbconvert_exporter": "python",
   "pygments_lexer": "ipython3",
   "version": "3.11.9"
  }
 },
 "nbformat": 4,
 "nbformat_minor": 4
}
